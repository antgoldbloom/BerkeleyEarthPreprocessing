{
 "cells": [
  {
   "cell_type": "code",
   "execution_count": 63,
   "metadata": {
    "collapsed": false
   },
   "outputs": [],
   "source": [
    "def getPlaceFromFileName(fileName, delimiter, hasLatLong=False):\n",
    "    import urllib\n",
    "    raw = ' '.join(fileName.split('-')[0:fileName.split('-').index(delimiter)]).title().split('%3A%3A')\n",
    "    filtered = list(map(lambda x: urllib.parse.unquote(x, encoding='latin-1').title(), raw))\n",
    "    if hasLatLong:\n",
    "        coords = filtered[-1].split(' ')\n",
    "        filtered[-1:] = coords\n",
    "    return filtered"
   ]
  },
  {
   "cell_type": "code",
   "execution_count": 64,
   "metadata": {
    "collapsed": false
   },
   "outputs": [
    {
     "name": "stdout",
     "output_type": "stream",
     "text": [
      "['Australian Capital Territory', 'Australia']\n",
      "[\"Astrakhan'\", 'Russia']\n",
      "['Kinshasa', 'Congo (Democratic Republic Of The)', '4.02S', '15.27E']\n"
     ]
    }
   ],
   "source": [
    "print(getPlaceFromFileName('australian-capital-territory%3A%3Aaustralia-TAVG-Trend.txt', 'TAVG'))\n",
    "print(getPlaceFromFileName('astrakhan%27%3A%3Arussia-TAVG-Trend.txt', 'TAVG'))\n",
    "print(getPlaceFromFileName('kinshasa%3A%3Acongo-%28democratic-republic-of-the%29%3A%3A4.02S-15.27E-TAVG-Trend.txt', 'TAVG', True))"
   ]
  },
  {
   "cell_type": "code",
   "execution_count": null,
   "metadata": {
    "collapsed": true
   },
   "outputs": [],
   "source": []
  }
 ],
 "metadata": {
  "kernelspec": {
   "display_name": "Python 3",
   "language": "python",
   "name": "python3"
  },
  "language_info": {
   "codemirror_mode": {
    "name": "ipython",
    "version": 3
   },
   "file_extension": ".py",
   "mimetype": "text/x-python",
   "name": "python",
   "nbconvert_exporter": "python",
   "pygments_lexer": "ipython3",
   "version": "3.5.1"
  }
 },
 "nbformat": 4,
 "nbformat_minor": 0
}
